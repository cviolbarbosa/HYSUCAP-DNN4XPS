{
 "cells": [
  {
   "cell_type": "markdown",
   "id": "573b2310",
   "metadata": {},
   "source": [
    "# Demonstration of  experimental data fitting using NN model"
   ]
  },
  {
   "cell_type": "markdown",
   "id": "9e575213",
   "metadata": {},
   "source": [
    "### Run the cell below to import the libraries"
   ]
  },
  {
   "cell_type": "code",
   "execution_count": null,
   "id": "c4c730ce",
   "metadata": {},
   "outputs": [],
   "source": [
    "import sys; sys.path.insert(1, 'code')\n",
    "from spect_tools import (create_optimizer, CalculatedSpectrum, AtomicElement, uploader, load_file_data, fit_loss)\n",
    "from tensorflow.keras.models import load_model\n",
    "import matplotlib.pyplot as plt\n",
    "import numpy as np"
   ]
  },
  {
   "cell_type": "markdown",
   "id": "b5c6eb84",
   "metadata": {},
   "source": [
    "### Run this cell fo load the neural network model"
   ]
  },
  {
   "cell_type": "code",
   "execution_count": null,
   "id": "9029acb4",
   "metadata": {},
   "outputs": [],
   "source": [
    "# Load Deep Neural network for Ti 2p XPS\n",
    "TRAINED_MODEL_PATH = './trained_models/Ti2pXPS.h5'\n",
    "trained_model = load_model(TRAINED_MODEL_PATH)\n",
    "\n",
    "# Energy range in eV for the output of the Ti2pXPS model \n",
    "ENERGY_AXIS = np.linspace(448,470,2200) "
   ]
  },
  {
   "cell_type": "markdown",
   "id": "6664c85d",
   "metadata": {},
   "source": [
    "# 1 - Load experimental data"
   ]
  },
  {
   "cell_type": "markdown",
   "id": "34bbc5b8",
   "metadata": {},
   "source": [
    "### Run this cell and click \"Upload\" to select your experimental CSV file"
   ]
  },
  {
   "cell_type": "code",
   "execution_count": null,
   "id": "d5defffe",
   "metadata": {},
   "outputs": [],
   "source": [
    "display(uploader)"
   ]
  },
  {
   "cell_type": "markdown",
   "id": "798c2ec6",
   "metadata": {},
   "source": [
    "### Run this cell to load the file data"
   ]
  },
  {
   "cell_type": "code",
   "execution_count": null,
   "id": "c2692cd8",
   "metadata": {},
   "outputs": [],
   "source": [
    "CSV_COLUMN_SEPARATOR = '\\t' # choose '\\t' for tab or ' ' space or ';'\n",
    "y_exp, energy = load_file_data(CSV_COLUMN_SEPARATOR, ENERGY_AXIS)\n",
    "plt.plot(energy, y_exp)"
   ]
  },
  {
   "cell_type": "markdown",
   "id": "1d72086e",
   "metadata": {},
   "source": [
    "# 2 - Fit data"
   ]
  },
  {
   "cell_type": "markdown",
   "id": "54026535",
   "metadata": {},
   "source": [
    "###  Type the initial guess and parameter ranges and run this cell"
   ]
  },
  {
   "cell_type": "code",
   "execution_count": null,
   "id": "de7197d4",
   "metadata": {},
   "outputs": [],
   "source": [
    "# INITIAL GUESS FOR OPTIMIZATION PARAMETERS\n",
    "ATOMIC_POSITIONS = 2\n",
    "atom1 = AtomicElement(nox=2, delta=2, Udd=3, Upd=0.5, T2q=-0.5, Dt=0.5, Ds=0)\n",
    "atom2 = AtomicElement(nox=4, delta=2, Udd=3, Upd=0.5, T2q=4,    Dt=0.5, Ds=0)\n",
    "atoms = [atom1, atom2]\n",
    "\n",
    "# OPTIMIZER Settings\n",
    "S = dict() \n",
    "# Instrumental fitting properties\n",
    "S['range_scale'] = [0.01, 4.0]\n",
    "S['range_broad'] = [0.05, 2.0] \n",
    "S['range_offset']= [-1, 1]\n",
    "S['range_shift'] = [-3, 3] # energy shift (eV)\n",
    "\n",
    "# Electronic charge transfer properties\n",
    "S['range_nox']   = [1.9, 4.1]\n",
    "S['range_delta'] = [1.0, 2.0]\n",
    "S['range_Udd'] =   [1.0, 3.0]\n",
    "S['range_Upd'] =   [0.0, 1.0]\n",
    "\n",
    "# Cristal distortion\n",
    "S['range_T2q'] = [-0.6, 4.2]\n",
    "S['range_Dt'] =  [0.0, 1.1]\n",
    "S['range_Ds'] =  [0.0, 0.1]\n",
    "\n",
    "# Optimization parameters\n",
    "S['set_ftol_rel'] = 1e-6\n",
    "S['set_xtol_rel'] = 1e-3\n",
    "\n"
   ]
  },
  {
   "cell_type": "markdown",
   "id": "e4da1657",
   "metadata": {},
   "source": [
    "### Run this cell to create the optimizer"
   ]
  },
  {
   "cell_type": "code",
   "execution_count": null,
   "id": "f7374e44",
   "metadata": {},
   "outputs": [],
   "source": [
    "# Create fitting optimizer\n",
    "x_optimum = None\n",
    "guessed_spectrum = CalculatedSpectrum(trained_model, [], ENERGY_AXIS, ATOMIC_POSITIONS)\n",
    "guessed_spectrum.broad=1.0\n",
    "guessed_spectrum.atoms = atoms\n",
    "initial_parameters = guessed_spectrum.get_parameter_array()\n",
    "\n",
    "def loss(x, grad):\n",
    "    return fit_loss(x, y_exp, trained_model, ENERGY_AXIS, ATOMIC_POSITIONS)\n",
    "\n",
    "fit_optimizer, x0 = create_optimizer(S, loss, num_atoms=ATOMIC_POSITIONS)\n",
    "print(\"Optimizer created. Ready to start the fitting\")"
   ]
  },
  {
   "cell_type": "markdown",
   "id": "35172d18",
   "metadata": {},
   "source": [
    "###  Run this cell to start the fitting ( you can run multiple times)"
   ]
  },
  {
   "cell_type": "code",
   "execution_count": null,
   "id": "d9ae9f4a",
   "metadata": {},
   "outputs": [],
   "source": [
    "# START FITTING\n",
    "if x_optimum is None: \n",
    "    # Run first time \n",
    "    x_optimum = fit_optimizer.optimize(initial_parameters)\n",
    "    \n",
    "# Run more 10 times    \n",
    "for i in range(0, 10):  x_optimum = fit_optimizer.optimize(x_optimum)\n",
    "    \n",
    "minf = fit_optimizer.last_optimum_value()\n",
    "print('total error:', minf)"
   ]
  },
  {
   "cell_type": "markdown",
   "id": "8a6e19da",
   "metadata": {},
   "source": [
    "# 3 - Visualize Results"
   ]
  },
  {
   "cell_type": "markdown",
   "id": "85b56ccf",
   "metadata": {},
   "source": [
    "###  Run this cell to visualize the result"
   ]
  },
  {
   "cell_type": "code",
   "execution_count": null,
   "id": "cf620c67",
   "metadata": {},
   "outputs": [],
   "source": [
    "plt.figure(figsize=(10, 8), dpi=80)\n",
    "y_result_spectrum = CalculatedSpectrum(trained_model, x_optimum, ENERGY_AXIS, ATOMIC_POSITIONS)\n",
    "y_result_spectrum.calculate_spectra(y_exp)\n",
    "y_result_spectrum.plot(plt,y_exp)\n",
    "print(y_result_spectrum)\n"
   ]
  },
  {
   "cell_type": "code",
   "execution_count": null,
   "id": "347d076f",
   "metadata": {},
   "outputs": [],
   "source": []
  }
 ],
 "metadata": {
  "kernelspec": {
   "display_name": "Python 3 (ipykernel)",
   "language": "python",
   "name": "python3"
  },
  "language_info": {
   "codemirror_mode": {
    "name": "ipython",
    "version": 3
   },
   "file_extension": ".py",
   "mimetype": "text/x-python",
   "name": "python",
   "nbconvert_exporter": "python",
   "pygments_lexer": "ipython3",
   "version": "3.7.10"
  }
 },
 "nbformat": 4,
 "nbformat_minor": 5
}
