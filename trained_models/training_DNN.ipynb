{
 "cells": [
  {
   "cell_type": "code",
   "execution_count": 116,
   "id": "662ae994",
   "metadata": {},
   "outputs": [
    {
     "name": "stdout",
     "output_type": "stream",
     "text": [
      "Default GPU Device:/device:GPU:0\n"
     ]
    }
   ],
   "source": [
    "import matplotlib.pyplot as plt\n",
    "import numpy as np\n",
    "import tensorflow as tf\n",
    "import pandas as pd\n",
    "import pathlib\n",
    "import re\n",
    "from tensorflow.keras.models import Sequential\n",
    "from tensorflow.keras.layers import Dense, Conv1D, Conv2D, LeakyReLU, BatchNormalization, Conv1DTranspose, Input, Reshape, InputLayer\n",
    "\n",
    "\n",
    "if tf.test.gpu_device_name(): \n",
    "    print('Default GPU Device:{}'.format(tf.test.gpu_device_name()))\n"
   ]
  },
  {
   "cell_type": "markdown",
   "id": "6b31e4d2",
   "metadata": {},
   "source": [
    "# Prepare model for training"
   ]
  },
  {
   "cell_type": "code",
   "execution_count": 117,
   "id": "0e207bf0",
   "metadata": {},
   "outputs": [],
   "source": [
    "import os\n",
    "import pandas as pd\n",
    "import numpy as np\n",
    "xt = np.linspace(448,470,2200)\n",
    "\n",
    "\n",
    "def process_files(path, dest):\n",
    "    os.chdir(path)\n",
    "    print(os.getcwd())\n",
    "\n",
    "    x = np.linspace(448,480,2200)\n",
    "    for count, f in enumerate(os.listdir()):\n",
    "        csv_panda =  pd.read_csv(f, sep='  ')\n",
    "        xp = csv_panda.iloc[:,0].to_numpy()\n",
    "        yp = csv_panda.iloc[:,3].to_numpy()\n",
    "        y = np.interp(x, xp, yp)\n",
    "        y = y/np.max(y)\n",
    "\n",
    "        f_name, f_ext = os.path.splitext(f)\n",
    "        data = np.hstack((np.expand_dims(x,1),np.expand_dims(y,1)))\n",
    "        print(data.shape)\n",
    "        np.savetxt(f\"{dest}{f_name}.dsv\", data, delimiter='  ')"
   ]
  },
  {
   "cell_type": "code",
   "execution_count": null,
   "id": "d57120aa",
   "metadata": {},
   "outputs": [],
   "source": [
    "directory = 'C:\\\\CALCXPS\\\\' # folder for training data\n",
    "batch_size = 64\n",
    "process_files('./CTM4XAS_Plots/', directory)\n"
   ]
  },
  {
   "cell_type": "markdown",
   "id": "7fb98bc6",
   "metadata": {},
   "source": [
    "# Generator Model"
   ]
  },
  {
   "cell_type": "code",
   "execution_count": 118,
   "id": "2a896e0d",
   "metadata": {},
   "outputs": [
    {
     "name": "stdout",
     "output_type": "stream",
     "text": [
      "Model: \"sequential_8\"\n",
      "_________________________________________________________________\n",
      "Layer (type)                 Output Shape              Param #   \n",
      "=================================================================\n",
      "dense_8 (Dense)              (None, 1, 70400)          563200    \n",
      "_________________________________________________________________\n",
      "leaky_re_lu_32 (LeakyReLU)   (None, 1, 70400)          0         \n",
      "_________________________________________________________________\n",
      "reshape_8 (Reshape)          (None, 550, 128)          0         \n",
      "_________________________________________________________________\n",
      "conv1d_transpose_24 (Conv1DT (None, 550, 128)          65536     \n",
      "_________________________________________________________________\n",
      "leaky_re_lu_33 (LeakyReLU)   (None, 550, 128)          0         \n",
      "_________________________________________________________________\n",
      "conv1d_transpose_25 (Conv1DT (None, 1100, 64)          40960     \n",
      "_________________________________________________________________\n",
      "leaky_re_lu_34 (LeakyReLU)   (None, 1100, 64)          0         \n",
      "_________________________________________________________________\n",
      "conv1d_transpose_26 (Conv1DT (None, 2200, 32)          10240     \n",
      "_________________________________________________________________\n",
      "leaky_re_lu_35 (LeakyReLU)   (None, 2200, 32)          0         \n",
      "_________________________________________________________________\n",
      "conv1d_8 (Conv1D)            (None, 2200, 1)           160       \n",
      "=================================================================\n",
      "Total params: 680,096\n",
      "Trainable params: 680,096\n",
      "Non-trainable params: 0\n",
      "_________________________________________________________________\n"
     ]
    }
   ],
   "source": [
    "USE_BATCH_NORM = False\n",
    "num_input_params = 7 # [Nox, Delta, Udd, Upd, TDq, Dt, Ds]\n",
    "output_size=(2200, 1)\n",
    "n_filters=128\n",
    "n_blocks=2\n",
    "size_factor = 2**n_blocks\n",
    "hidden_size = (output_size[0]//size_factor)\n",
    "model = tf.keras.Sequential()\n",
    "model.add(InputLayer(input_shape=(1,num_input_params)))\n",
    "model.add(Dense(units=n_filters*hidden_size))\n",
    "model.add(LeakyReLU())\n",
    "model.add(Reshape((hidden_size, n_filters)))\n",
    "# now we upsample the feature space to\n",
    "model.add(Conv1DTranspose(filters=n_filters,\n",
    "                          kernel_size=4,\n",
    "                          strides=1,\n",
    "                          padding='same',\n",
    "                          use_bias=False\n",
    "                          ))\n",
    "if USE_BATCH_NORM:\n",
    "    model.add(BatchNormalization())\n",
    "    \n",
    "model.add(LeakyReLU())\n",
    "\n",
    "nf = n_filters\n",
    "for i in range(n_blocks):\n",
    "    nf = nf // 2\n",
    "    model.add(Conv1DTranspose(filters=nf,\n",
    "                              kernel_size=5,\n",
    "                              strides=2,\n",
    "                              padding='same',\n",
    "                              use_bias=False\n",
    "                              ))\n",
    "    if USE_BATCH_NORM:\n",
    "        model.add(BatchNormalization())\n",
    "        \n",
    "    model.add(LeakyReLU())\n",
    "\n",
    "model.add(Conv1D(filters=output_size[1],\n",
    "                          kernel_size=5,\n",
    "                          strides=1,\n",
    "                          padding='same',\n",
    "                          use_bias=False,\n",
    "                          activation='tanh')\n",
    "                          )\n",
    "\n",
    "model.summary()\n"
   ]
  },
  {
   "cell_type": "markdown",
   "id": "8b93c8c1",
   "metadata": {},
   "source": [
    "# Training Data"
   ]
  },
  {
   "cell_type": "markdown",
   "id": "4e6faa8a",
   "metadata": {},
   "source": [
    "# Prepare model for training"
   ]
  },
  {
   "cell_type": "code",
   "execution_count": 130,
   "id": "524a6b3f",
   "metadata": {},
   "outputs": [
    {
     "name": "stdout",
     "output_type": "stream",
     "text": [
      "num files 4451\n",
      "validation files 223\n",
      "samples 69\n",
      "0\n"
     ]
    }
   ],
   "source": [
    "import numpy as np\n",
    "\n",
    "def convert_file_name_to_params(filename):\n",
    "    x = [ float(e) for e in re.findall(r'[\\d]*[.]\\d{1,3}',filename)]\n",
    "    Nox, Delta, Udd, TDq, Dt, Upd, Ds = (*x, 0)  # At the moment Ds is always zero      \n",
    "    x = np.array([Nox, Delta, Udd, Upd, TDq, Dt, Ds])\n",
    "    return x\n",
    "\n",
    "class DataGenerator(tf.keras.utils.Sequence):\n",
    "    'Generates data for Keras'\n",
    "    def __init__(self, list_IDs, batch_size=32, shuffle=True):\n",
    "        'Initialization'\n",
    "        \n",
    "        self.batch_size = batch_size\n",
    "        self.list_IDs = list_IDs\n",
    "        self.shuffle = shuffle\n",
    "        self.on_epoch_end()\n",
    "\n",
    "    def __len__(self):\n",
    "        'Denotes the number of batches per epoch'\n",
    "        return int(np.floor(len(self.list_IDs) / self.batch_size))\n",
    "\n",
    "    def __getitem__(self, index):\n",
    "        'Generate one batch of data'\n",
    "        # Generate indexes of the batch\n",
    "        indexes = self.indexes[index*self.batch_size:(index+1)*self.batch_size]\n",
    "\n",
    "        # Find list of IDs\n",
    "        list_IDs_temp = [self.list_IDs[k] for k in indexes]\n",
    "\n",
    "        # Generate data\n",
    "        X, y = self.__data_generation(list_IDs_temp)\n",
    "\n",
    "        return X, y\n",
    "\n",
    "    def on_epoch_end(self):\n",
    "        'Updates indexes after each epoch'\n",
    "        self.indexes = np.arange(len(self.list_IDs))\n",
    "        if self.shuffle == True:\n",
    "            np.random.shuffle(self.indexes)\n",
    "\n",
    "    def __data_generation(self, list_IDs_temp):\n",
    "        'Generates data containing batch_size samples' # X : (n_samples, *dim, n_channels)\n",
    "        # Initialization      \n",
    "        X_BATCH = None\n",
    "        Y_BATCH = None\n",
    "        \n",
    "        # Generate data\n",
    "        for file in list_IDs_temp:\n",
    "            file_path= file\n",
    "            csv_panda =  pd.read_csv(file_path, sep='  ', header=None)\n",
    "            spectrum = csv_panda.iloc[:,1].to_numpy()\n",
    "\n",
    "            x= convert_file_name_to_params(file_path)\n",
    "            \n",
    "\n",
    "            if X_BATCH is None:\n",
    "                X_BATCH = x\n",
    "                Y_BATCH = spectrum\n",
    "            else:\n",
    "                X_BATCH = np.vstack([X_BATCH, x])\n",
    "                Y_BATCH = np.vstack([Y_BATCH, spectrum])        \n",
    "        \n",
    "        return X_BATCH, np.expand_dims(Y_BATCH, axis=2) \n",
    "\n",
    "    \n",
    "\n",
    "\n",
    "dataset = tf.data.Dataset.list_files(f\"{directory}*.*\")\n",
    "from os import listdir\n",
    "from os.path import isfile, join\n",
    "\n",
    "onlyfiles = [join(directory, f) for f in listdir(directory) if isfile(join(directory, f))]\n",
    "num_files = len(onlyfiles)\n",
    "num_training_files = int(np.round(num_files * 95/100));\n",
    "num_validation_files = int(np.round(num_files * 5/100));\n",
    "print('num files', num_files)\n",
    "print('validation files', num_validation_files)\n",
    "\n",
    "indices = np.random.permutation(num_files)\n",
    "training_idx, validaton_idx = indices[:num_training_files], indices[num_training_files:]\n",
    "training_files, validation_files = [onlyfiles[i] for i in training_idx], [onlyfiles[i] for i in validaton_idx]\n",
    "\n",
    "# Generators\n",
    "training_generator = DataGenerator(training_files, batch_size)\n",
    "validation_generator = DataGenerator(validation_files, batch_size)\n",
    "print('samples', len(training_generator))\n",
    "    \n",
    "    \n",
    "print(len(validation_files))\n",
    "for step, (x_batch_train, y_batch_train) in enumerate(validation_generator):\n",
    "    print(x_batch_train.shape)\n",
    "    print(x_batch_train)\n",
    "    print(x_batch_train[3][4])\n",
    "    \n",
    "    print('x', model(x_batch_train).shape)\n",
    "    print(y_batch_train.shape)\n",
    "    \n",
    "    \n",
    "    break"
   ]
  },
  {
   "cell_type": "code",
   "execution_count": 131,
   "id": "220d260d",
   "metadata": {},
   "outputs": [
    {
     "data": {
      "text/plain": [
       "array([], dtype=int32)"
      ]
     },
     "execution_count": 131,
     "metadata": {},
     "output_type": "execute_result"
    }
   ],
   "source": [
    "validaton_idx"
   ]
  },
  {
   "cell_type": "markdown",
   "id": "5d1775c1",
   "metadata": {},
   "source": [
    "# Training"
   ]
  },
  {
   "cell_type": "code",
   "execution_count": 121,
   "id": "ddd25f8a",
   "metadata": {},
   "outputs": [],
   "source": [
    "# for layer in model.layers:\n",
    "#   layer.trainable = True\n",
    "#   if isinstance(layer, BatchNormalization):\n",
    "#       print(\"is instance\")\n",
    "#       print(layer)\n",
    "#       layer.trainable = False\n",
    "      \n",
    "# Instantiate an optimizer to train the model.\n",
    "optimizer = tf.keras.optimizers.Adamax(learning_rate=0.005)\n",
    "     \n",
    "\n",
    "# Instantiate a loss function.\n",
    "loss_fn = tf.keras.losses.MeanSquaredError(reduction='sum_over_batch_size')\n",
    "\n",
    "model.compile(optimizer=optimizer, loss=loss_fn)\n"
   ]
  },
  {
   "cell_type": "code",
   "execution_count": 132,
   "id": "8653b272",
   "metadata": {
    "scrolled": true
   },
   "outputs": [
    {
     "name": "stdout",
     "output_type": "stream",
     "text": [
      "\n",
      "\n",
      "Start of epoch 0\n"
     ]
    },
    {
     "name": "stderr",
     "output_type": "stream",
     "text": [
      "C:\\Users\\barbo\\.conda\\envs\\tensorflow_gpu\\lib\\site-packages\\pandas\\util\\_decorators.py:311: ParserWarning: Falling back to the 'python' engine because the 'c' engine does not support regex separators (separators > 1 char and different from '\\s+' are interpreted as regex); you can avoid this warning by specifying engine='python'.\n",
      "  return func(*args, **kwargs)\n"
     ]
    },
    {
     "name": "stdout",
     "output_type": "stream",
     "text": [
      "Training loss (for one batch) at step 0: 0.000735\n",
      "Seen so far: 64 samples\n",
      "Training loss (for one batch) at step 10: 0.000843\n",
      "Seen so far: 704 samples\n",
      "Training loss (for one batch) at step 20: 0.000636\n",
      "Seen so far: 1344 samples\n",
      "Training loss (for one batch) at step 30: 0.001229\n",
      "Seen so far: 1984 samples\n",
      "Training loss (for one batch) at step 40: 0.000769\n",
      "Seen so far: 2624 samples\n",
      "Training loss (for one batch) at step 50: 0.000895\n",
      "Seen so far: 3264 samples\n",
      "Training loss (for one batch) at step 60: 0.000591\n",
      "Seen so far: 3904 samples\n",
      "INFO:tensorflow:Assets written to: saved_model/my_model\\assets\n",
      "\n",
      "\n",
      "Start of epoch 1\n"
     ]
    },
    {
     "name": "stderr",
     "output_type": "stream",
     "text": [
      "C:\\Users\\barbo\\.conda\\envs\\tensorflow_gpu\\lib\\site-packages\\pandas\\util\\_decorators.py:311: ParserWarning: Falling back to the 'python' engine because the 'c' engine does not support regex separators (separators > 1 char and different from '\\s+' are interpreted as regex); you can avoid this warning by specifying engine='python'.\n",
      "  return func(*args, **kwargs)\n"
     ]
    },
    {
     "name": "stdout",
     "output_type": "stream",
     "text": [
      "Training loss (for one batch) at step 0: 0.000759\n",
      "Seen so far: 64 samples\n",
      "Training loss (for one batch) at step 10: 0.000771\n",
      "Seen so far: 704 samples\n",
      "Training loss (for one batch) at step 20: 0.000593\n",
      "Seen so far: 1344 samples\n",
      "Training loss (for one batch) at step 30: 0.001012\n",
      "Seen so far: 1984 samples\n",
      "Training loss (for one batch) at step 40: 0.000632\n",
      "Seen so far: 2624 samples\n",
      "Training loss (for one batch) at step 50: 0.000820\n",
      "Seen so far: 3264 samples\n",
      "Training loss (for one batch) at step 60: 0.000487\n",
      "Seen so far: 3904 samples\n",
      "INFO:tensorflow:Assets written to: saved_model/my_model\\assets\n",
      "\n",
      "\n",
      "Start of epoch 2\n"
     ]
    },
    {
     "name": "stderr",
     "output_type": "stream",
     "text": [
      "C:\\Users\\barbo\\.conda\\envs\\tensorflow_gpu\\lib\\site-packages\\pandas\\util\\_decorators.py:311: ParserWarning: Falling back to the 'python' engine because the 'c' engine does not support regex separators (separators > 1 char and different from '\\s+' are interpreted as regex); you can avoid this warning by specifying engine='python'.\n",
      "  return func(*args, **kwargs)\n"
     ]
    },
    {
     "name": "stdout",
     "output_type": "stream",
     "text": [
      "Training loss (for one batch) at step 0: 0.000617\n",
      "Seen so far: 64 samples\n",
      "Training loss (for one batch) at step 10: 0.000681\n",
      "Seen so far: 704 samples\n",
      "Training loss (for one batch) at step 20: 0.000568\n",
      "Seen so far: 1344 samples\n",
      "Training loss (for one batch) at step 30: 0.001017\n",
      "Seen so far: 1984 samples\n",
      "Training loss (for one batch) at step 40: 0.000660\n",
      "Seen so far: 2624 samples\n",
      "Training loss (for one batch) at step 50: 0.000846\n",
      "Seen so far: 3264 samples\n",
      "Training loss (for one batch) at step 60: 0.000497\n",
      "Seen so far: 3904 samples\n",
      "INFO:tensorflow:Assets written to: saved_model/my_model\\assets\n",
      "\n",
      "\n",
      "Start of epoch 3\n"
     ]
    },
    {
     "name": "stderr",
     "output_type": "stream",
     "text": [
      "C:\\Users\\barbo\\.conda\\envs\\tensorflow_gpu\\lib\\site-packages\\pandas\\util\\_decorators.py:311: ParserWarning: Falling back to the 'python' engine because the 'c' engine does not support regex separators (separators > 1 char and different from '\\s+' are interpreted as regex); you can avoid this warning by specifying engine='python'.\n",
      "  return func(*args, **kwargs)\n"
     ]
    },
    {
     "name": "stdout",
     "output_type": "stream",
     "text": [
      "Training loss (for one batch) at step 0: 0.000593\n",
      "Seen so far: 64 samples\n",
      "Training loss (for one batch) at step 10: 0.000668\n",
      "Seen so far: 704 samples\n",
      "Training loss (for one batch) at step 20: 0.000550\n",
      "Seen so far: 1344 samples\n",
      "Training loss (for one batch) at step 30: 0.000994\n",
      "Seen so far: 1984 samples\n",
      "Training loss (for one batch) at step 40: 0.000551\n",
      "Seen so far: 2624 samples\n",
      "Training loss (for one batch) at step 50: 0.000800\n",
      "Seen so far: 3264 samples\n",
      "Training loss (for one batch) at step 60: 0.000467\n",
      "Seen so far: 3904 samples\n",
      "INFO:tensorflow:Assets written to: saved_model/my_model\\assets\n",
      "\n",
      "\n",
      "Start of epoch 4\n"
     ]
    },
    {
     "name": "stderr",
     "output_type": "stream",
     "text": [
      "C:\\Users\\barbo\\.conda\\envs\\tensorflow_gpu\\lib\\site-packages\\pandas\\util\\_decorators.py:311: ParserWarning: Falling back to the 'python' engine because the 'c' engine does not support regex separators (separators > 1 char and different from '\\s+' are interpreted as regex); you can avoid this warning by specifying engine='python'.\n",
      "  return func(*args, **kwargs)\n"
     ]
    },
    {
     "name": "stdout",
     "output_type": "stream",
     "text": [
      "Training loss (for one batch) at step 0: 0.000574\n",
      "Seen so far: 64 samples\n",
      "Training loss (for one batch) at step 10: 0.000673\n",
      "Seen so far: 704 samples\n",
      "Training loss (for one batch) at step 20: 0.000545\n",
      "Seen so far: 1344 samples\n",
      "Training loss (for one batch) at step 30: 0.000981\n",
      "Seen so far: 1984 samples\n",
      "Training loss (for one batch) at step 40: 0.000598\n",
      "Seen so far: 2624 samples\n",
      "Training loss (for one batch) at step 50: 0.000815\n",
      "Seen so far: 3264 samples\n",
      "Training loss (for one batch) at step 60: 0.000479\n",
      "Seen so far: 3904 samples\n",
      "INFO:tensorflow:Assets written to: saved_model/my_model\\assets\n",
      "\n",
      "\n",
      "Start of epoch 5\n"
     ]
    },
    {
     "name": "stderr",
     "output_type": "stream",
     "text": [
      "C:\\Users\\barbo\\.conda\\envs\\tensorflow_gpu\\lib\\site-packages\\pandas\\util\\_decorators.py:311: ParserWarning: Falling back to the 'python' engine because the 'c' engine does not support regex separators (separators > 1 char and different from '\\s+' are interpreted as regex); you can avoid this warning by specifying engine='python'.\n",
      "  return func(*args, **kwargs)\n"
     ]
    },
    {
     "name": "stdout",
     "output_type": "stream",
     "text": [
      "Training loss (for one batch) at step 0: 0.000585\n",
      "Seen so far: 64 samples\n",
      "Training loss (for one batch) at step 10: 0.000677\n",
      "Seen so far: 704 samples\n",
      "Training loss (for one batch) at step 20: 0.000528\n",
      "Seen so far: 1344 samples\n",
      "Training loss (for one batch) at step 30: 0.000958\n",
      "Seen so far: 1984 samples\n",
      "Training loss (for one batch) at step 40: 0.000543\n",
      "Seen so far: 2624 samples\n",
      "Training loss (for one batch) at step 50: 0.000780\n",
      "Seen so far: 3264 samples\n",
      "Training loss (for one batch) at step 60: 0.000466\n",
      "Seen so far: 3904 samples\n",
      "INFO:tensorflow:Assets written to: saved_model/my_model\\assets\n",
      "\n",
      "\n",
      "Start of epoch 6\n"
     ]
    },
    {
     "name": "stderr",
     "output_type": "stream",
     "text": [
      "C:\\Users\\barbo\\.conda\\envs\\tensorflow_gpu\\lib\\site-packages\\pandas\\util\\_decorators.py:311: ParserWarning: Falling back to the 'python' engine because the 'c' engine does not support regex separators (separators > 1 char and different from '\\s+' are interpreted as regex); you can avoid this warning by specifying engine='python'.\n",
      "  return func(*args, **kwargs)\n"
     ]
    },
    {
     "name": "stdout",
     "output_type": "stream",
     "text": [
      "Training loss (for one batch) at step 0: 0.000556\n",
      "Seen so far: 64 samples\n",
      "Training loss (for one batch) at step 10: 0.000658\n",
      "Seen so far: 704 samples\n",
      "Training loss (for one batch) at step 20: 0.000519\n",
      "Seen so far: 1344 samples\n",
      "Training loss (for one batch) at step 30: 0.000951\n",
      "Seen so far: 1984 samples\n",
      "Training loss (for one batch) at step 40: 0.000591\n",
      "Seen so far: 2624 samples\n",
      "Training loss (for one batch) at step 50: 0.000791\n",
      "Seen so far: 3264 samples\n",
      "Training loss (for one batch) at step 60: 0.000474\n",
      "Seen so far: 3904 samples\n",
      "INFO:tensorflow:Assets written to: saved_model/my_model\\assets\n",
      "\n",
      "\n",
      "Start of epoch 7\n"
     ]
    },
    {
     "name": "stderr",
     "output_type": "stream",
     "text": [
      "C:\\Users\\barbo\\.conda\\envs\\tensorflow_gpu\\lib\\site-packages\\pandas\\util\\_decorators.py:311: ParserWarning: Falling back to the 'python' engine because the 'c' engine does not support regex separators (separators > 1 char and different from '\\s+' are interpreted as regex); you can avoid this warning by specifying engine='python'.\n",
      "  return func(*args, **kwargs)\n"
     ]
    },
    {
     "name": "stdout",
     "output_type": "stream",
     "text": [
      "Training loss (for one batch) at step 0: 0.000586\n",
      "Seen so far: 64 samples\n",
      "Training loss (for one batch) at step 10: 0.000643\n",
      "Seen so far: 704 samples\n",
      "Training loss (for one batch) at step 20: 0.000527\n",
      "Seen so far: 1344 samples\n",
      "Training loss (for one batch) at step 30: 0.000960\n",
      "Seen so far: 1984 samples\n",
      "Training loss (for one batch) at step 40: 0.000559\n",
      "Seen so far: 2624 samples\n",
      "Training loss (for one batch) at step 50: 0.000750\n",
      "Seen so far: 3264 samples\n",
      "Training loss (for one batch) at step 60: 0.000460\n",
      "Seen so far: 3904 samples\n",
      "INFO:tensorflow:Assets written to: saved_model/my_model\\assets\n",
      "\n",
      "\n",
      "Start of epoch 8\n"
     ]
    },
    {
     "name": "stderr",
     "output_type": "stream",
     "text": [
      "C:\\Users\\barbo\\.conda\\envs\\tensorflow_gpu\\lib\\site-packages\\pandas\\util\\_decorators.py:311: ParserWarning: Falling back to the 'python' engine because the 'c' engine does not support regex separators (separators > 1 char and different from '\\s+' are interpreted as regex); you can avoid this warning by specifying engine='python'.\n",
      "  return func(*args, **kwargs)\n"
     ]
    },
    {
     "name": "stdout",
     "output_type": "stream",
     "text": [
      "Training loss (for one batch) at step 0: 0.000541\n",
      "Seen so far: 64 samples\n",
      "Training loss (for one batch) at step 10: 0.000633\n",
      "Seen so far: 704 samples\n",
      "Training loss (for one batch) at step 20: 0.000500\n",
      "Seen so far: 1344 samples\n",
      "Training loss (for one batch) at step 30: 0.000953\n",
      "Seen so far: 1984 samples\n",
      "Training loss (for one batch) at step 40: 0.000578\n",
      "Seen so far: 2624 samples\n",
      "Training loss (for one batch) at step 50: 0.000764\n",
      "Seen so far: 3264 samples\n",
      "Training loss (for one batch) at step 60: 0.000467\n",
      "Seen so far: 3904 samples\n",
      "INFO:tensorflow:Assets written to: saved_model/my_model\\assets\n",
      "\n",
      "\n",
      "Start of epoch 9\n"
     ]
    },
    {
     "name": "stderr",
     "output_type": "stream",
     "text": [
      "C:\\Users\\barbo\\.conda\\envs\\tensorflow_gpu\\lib\\site-packages\\pandas\\util\\_decorators.py:311: ParserWarning: Falling back to the 'python' engine because the 'c' engine does not support regex separators (separators > 1 char and different from '\\s+' are interpreted as regex); you can avoid this warning by specifying engine='python'.\n",
      "  return func(*args, **kwargs)\n"
     ]
    },
    {
     "name": "stdout",
     "output_type": "stream",
     "text": [
      "Training loss (for one batch) at step 0: 0.000530\n",
      "Seen so far: 64 samples\n",
      "Training loss (for one batch) at step 10: 0.000633\n",
      "Seen so far: 704 samples\n",
      "Training loss (for one batch) at step 20: 0.000520\n",
      "Seen so far: 1344 samples\n",
      "Training loss (for one batch) at step 30: 0.000913\n",
      "Seen so far: 1984 samples\n",
      "Training loss (for one batch) at step 40: 0.000520\n",
      "Seen so far: 2624 samples\n",
      "Training loss (for one batch) at step 50: 0.000740\n",
      "Seen so far: 3264 samples\n",
      "Training loss (for one batch) at step 60: 0.000432\n",
      "Seen so far: 3904 samples\n",
      "INFO:tensorflow:Assets written to: saved_model/my_model\\assets\n",
      "\n",
      "\n",
      "Start of epoch 10\n"
     ]
    },
    {
     "name": "stderr",
     "output_type": "stream",
     "text": [
      "C:\\Users\\barbo\\.conda\\envs\\tensorflow_gpu\\lib\\site-packages\\pandas\\util\\_decorators.py:311: ParserWarning: Falling back to the 'python' engine because the 'c' engine does not support regex separators (separators > 1 char and different from '\\s+' are interpreted as regex); you can avoid this warning by specifying engine='python'.\n",
      "  return func(*args, **kwargs)\n"
     ]
    },
    {
     "name": "stdout",
     "output_type": "stream",
     "text": [
      "Training loss (for one batch) at step 0: 0.000521\n",
      "Seen so far: 64 samples\n",
      "Training loss (for one batch) at step 10: 0.000609\n",
      "Seen so far: 704 samples\n",
      "Training loss (for one batch) at step 20: 0.000502\n",
      "Seen so far: 1344 samples\n",
      "Training loss (for one batch) at step 30: 0.000878\n",
      "Seen so far: 1984 samples\n",
      "Training loss (for one batch) at step 40: 0.000529\n",
      "Seen so far: 2624 samples\n",
      "Training loss (for one batch) at step 50: 0.000741\n",
      "Seen so far: 3264 samples\n",
      "Training loss (for one batch) at step 60: 0.000425\n",
      "Seen so far: 3904 samples\n",
      "INFO:tensorflow:Assets written to: saved_model/my_model\\assets\n",
      "\n",
      "\n",
      "Start of epoch 11\n"
     ]
    },
    {
     "name": "stderr",
     "output_type": "stream",
     "text": [
      "C:\\Users\\barbo\\.conda\\envs\\tensorflow_gpu\\lib\\site-packages\\pandas\\util\\_decorators.py:311: ParserWarning: Falling back to the 'python' engine because the 'c' engine does not support regex separators (separators > 1 char and different from '\\s+' are interpreted as regex); you can avoid this warning by specifying engine='python'.\n",
      "  return func(*args, **kwargs)\n"
     ]
    },
    {
     "name": "stdout",
     "output_type": "stream",
     "text": [
      "Training loss (for one batch) at step 0: 0.000514\n",
      "Seen so far: 64 samples\n",
      "Training loss (for one batch) at step 10: 0.000601\n",
      "Seen so far: 704 samples\n",
      "Training loss (for one batch) at step 20: 0.000515\n",
      "Seen so far: 1344 samples\n",
      "Training loss (for one batch) at step 30: 0.000883\n",
      "Seen so far: 1984 samples\n",
      "Training loss (for one batch) at step 40: 0.000532\n",
      "Seen so far: 2624 samples\n",
      "Training loss (for one batch) at step 50: 0.000722\n",
      "Seen so far: 3264 samples\n",
      "Training loss (for one batch) at step 60: 0.000421\n",
      "Seen so far: 3904 samples\n",
      "INFO:tensorflow:Assets written to: saved_model/my_model\\assets\n"
     ]
    },
    {
     "data": {
      "text/plain": [
       "[<matplotlib.lines.Line2D at 0x1d64735a3d0>,\n",
       " <matplotlib.lines.Line2D at 0x1d643a0cc70>]"
      ]
     },
     "execution_count": 132,
     "metadata": {},
     "output_type": "execute_result"
    },
    {
     "data": {
      "image/png": "[encoded data removed]",
      "text/plain": [
       "<Figure size 432x288 with 1 Axes>"
      ]
     },
     "metadata": {
      "needs_background": "light"
     },
     "output_type": "display_data"
    }
   ],
   "source": [
    "\n",
    "total_loss= []\n",
    "total_validation = []\n",
    "epochs = 12\n",
    "for epoch in range(epochs):\n",
    "    print(\"\\n\\nStart of epoch %d\" % (epoch,))\n",
    "\n",
    "     # Iterate over the batches of the dataset.\n",
    "    for step, (x_batch_train, y_batch_train) in enumerate(training_generator):\n",
    "        # Open a GradientTape to record the operations run\n",
    "        # during the forward pass, which enables auto-differentiation.\n",
    "        with tf.GradientTape() as tape:\n",
    "\n",
    "            # Run the forward pass of the layer.\n",
    "            # The operations that the layer applies\n",
    "            # to its inputs are going to be recorded\n",
    "            # on the GradientTape.\n",
    "            output = model(x_batch_train, training=True)  # Logits for this minibatch\n",
    "\n",
    "            # Compute the loss value for this minibatch.\n",
    "            loss_value = loss_fn(y_batch_train, output)\n",
    "\n",
    "        # Use the gradient tape to automatically retrieve\n",
    "        # the gradients of the trainable variables with respect to the loss.\n",
    "        grads = tape.gradient(loss_value, model.trainable_weights)\n",
    "\n",
    "        # Run one step of gradient descent by updating\n",
    "        # the value of the variables to minimize the loss.\n",
    "        optimizer.apply_gradients(zip(grads, model.trainable_weights))\n",
    "\n",
    "        # Log every 200 batches.\n",
    "        if step % 10 == 0:\n",
    "            print(\n",
    "                \"Training loss (for one batch) at step %d: %.6f\"\n",
    "                % (step, float(loss_value))\n",
    "            )\n",
    "            print(\"Seen so far: %s samples\" % ((step + 1) * batch_size))\n",
    "            loss_validation = 0\n",
    "            for step, (x_batch_train, y_batch_train) in enumerate(validation_generator):\n",
    "                output = model(x_batch_train, training=False)  # Logits for this minibatch\n",
    "                loss_validation += loss_fn(y_batch_train, output)\n",
    "            \n",
    "            total_loss.append(loss_value)\n",
    "            total_validation.append(loss_validation)\n",
    "                \n",
    "            \n",
    "    model.save('saved_model/Ti2pXPS')\n",
    "\n",
    "batches = range(0, len(total_loss) )   \n",
    "plt.plot(batches, total_loss, batches, total_validation)\n",
    "    \n"
   ]
  },
  {
   "cell_type": "code",
   "execution_count": 125,
   "id": "cf1e1232",
   "metadata": {},
   "outputs": [
    {
     "data": {
      "text/plain": [
       "Text(0.5, 0, 'number of batches')"
      ]
     },
     "execution_count": 125,
     "metadata": {},
     "output_type": "execute_result"
    },
    {
     "data": {
      "image/png": "[encoded data removed]",
      "text/plain": [
       "<Figure size 500x400 with 1 Axes>"
      ]
     },
     "metadata": {
      "needs_background": "light"
     },
     "output_type": "display_data"
    }
   ],
   "source": [
    "plt.figure(figsize=(5, 4), dpi=100)\n",
    "batches = np.array(range(0, len(total_loss) ))*64\n",
    "plt.plot(batches, total_loss, batches, total_validation)\n",
    "\n",
    "plt.title('Without batch normalization')\n",
    "plt.legend(['Training Loss', 'Validation Loss'])\n",
    "plt.xlabel('number of batches')"
   ]
  }
 ],
 "metadata": {
  "kernelspec": {
   "display_name": "Python 3 (ipykernel)",
   "language": "python",
   "name": "python3"
  },
  "language_info": {
   "codemirror_mode": {
    "name": "ipython",
    "version": 3
   },
   "file_extension": ".py",
   "mimetype": "text/x-python",
   "name": "python",
   "nbconvert_exporter": "python",
   "pygments_lexer": "ipython3",
   "version": "3.8.12"
  }
 },
 "nbformat": 4,
 "nbformat_minor": 5
}
